{
    "cells": [{
            "cell_type": "code",
            "execution_count": 0,
            "metadata": {
                "application/vnd.databricks.v1+cell": {
                    "cellMetadata": {},
                    "inputWidgets": {},
                    "nuid": "40d53ce8-2548-48d4-99cc-7d70b9d134d1",
                    "showTitle": false,
                    "title": ""
                }
            },
            "outputs": [],
            "source": [
                "def getWatermark(s,t,froms,to,update_dt):\n",
                "    \n",
                "    collect = spark.sql(f\"\"\" \n",
                "    select watermark_value from prep_ms_row.edw_loading_control \n",
                "    where tgt_tbl_name = '{t}' \n",
                "      and src_tbl_name = '{s}'\n",
                "    \"\"\").collect();\n",
                "    if len(collect) != 0:\n",
                "        watermarkFrom = collect[0]['watermark_value']\n",
                "    else:\n",
                "        watermarkFrom = '1970-01-01 00:00:00'\n",
                "    if watermarkFrom == None:\n",
                "        watermarkFrom = '1970-01-01 00:00:00';\n",
                "    spark.sql(f\"\"\" set {froms} = '{watermarkFrom}' \"\"\")    \n",
                "\n",
                "    collect = spark.sql(f\"\"\" \n",
                "    select max({update_dt}) as dw_update_dt from {s}\n",
                "    \"\"\").collect();\n",
                "    if len(collect) != 0:\n",
                "        watermarkTo = collect[0]['dw_update_dt'];\n",
                "    else:\n",
                "        watermarkTo = '1970-01-01 00:00:00';\n",
                "    if watermarkTo == None:\n",
                "        watermarkTo = '1970-01-01 00:00:00';    \n",
                "    spark.sql(f\"\"\" set {to} = '{watermarkTo}' \"\"\")  \n",
                "\n",
                "\n",
                "getWatermark('ods.ap_pcsd_ceo_ww_pcsd_daily_load','cam_ms.corp_kpi_ww_daily_order_load','zz.watermarkFrom_1','zz.watermarkTo_1','__dl_update_dt');\n",
                "getWatermark('ods.fr_isg_load_ww_dashboard'      ,'cam_ms.corp_kpi_ww_daily_order_load','zz.watermarkFrom_2','zz.watermarkTo_2','__dl_update_dt');\n",
                "getWatermark('ods.bigquery_mbg_daily_order_load' ,'cam_ms.corp_kpi_ww_daily_order_load','zz.watermarkFrom_3','zz.watermarkTo_3','__dl_update_dt');\n",
                "getWatermark('prep_ms_row.fact_isg_prc_cust_and_product_seg_loads' ,'cam_ms.corp_kpi_ww_daily_order_load','zz.watermarkFrom_4','zz.watermarkTo_4','dw_update_dt');\n",
                "getWatermark('cam_ms.fact_sales_target_track','cam_ms.corp_kpi_ww_daily_order_load','zz.watermarkFrom_5','zz.watermarkTo_5','dw_update_dt');"
            ]
        }
    ],
    "metadata": {
        "application/vnd.databricks.v1+notebook": {
            "dashboards": [],
            "language": "python",
            "notebookMetadata": {
                "pythonIndentUnit": 4
            },
            "notebookName": "Untitled Notebook 2024-03-20 10:46:40",
            "widgets": {}
        },        
        "language_info": {
            "name": "python",
            "pygments_lexer": "ipython3"
        }
    },
    "nbformat": 4,
    "nbformat_minor": 0
}
